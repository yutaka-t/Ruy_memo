{
 "cells": [
  {
   "cell_type": "markdown",
   "metadata": {},
   "source": [
    "インストール\n",
    "\n",
    "docker run -it --privileged -e DISPLAY=$DISPLAY -v /tmp/.X11-unix:/tmp/.X11-unix -v /lib/modules:/lib\n",
    "\n",
    "■オプション説明\n",
    "    -it : インタラクティブモード(継続してコマンド操作などが可能)\n",
    "        -i : interactive\n",
    "        -t : tty\n",
    "    -p  : 公開するポートのバインディング (ローカル):(コンテナ)\n",
    "    --name : コンテナの別名指定\n",
    "    --privileged : Dockerに対しホスト上の全てのデバイスに対して接続可能な権限を与える\n",
    "    -e : 環境変数の割り当て\n",
    "    -v : VOLUME（共有ファイルシステム）ローカル領域とコンテナ内で共有スペースを作る\n",
    "        ⇒ [ホスト側ディレクトリ]:[コンテナ側ディレクトリ] で指定"
   ]
  },
  {
   "cell_type": "markdown",
   "metadata": {},
   "source": [
    "PS C:\\Users\\yutak> docker run -it --privileged -e DISPLAY=$DISPLAY -v /tmp/.X11-unix:/tmp/.X11-unix -v /lib/modules:/lib\n",
    "/modules osrg/ryu-book\n",
    "Unable to find image 'osrg/ryu-book:latest' locally\n",
    "latest: Pulling from osrg/ryu-book\n",
    "af49a5ceb2a5: Pull complete\n",
    "8f9757b472e7: Pull complete\n",
    "e931b117db38: Pull complete\n",
    "47b5e16c0811: Pull complete\n",
    "9332eaf1a55b: Pull complete\n",
    "3011891cfe99: Pull complete\n",
    "2fa531712df6: Pull complete\n",
    "013caf26b479: Pull complete\n",
    "Digest: sha256:7f76f3c73e963d95b4f7ca75366623e48535c6250495317b0f472953b73e9cc0\n",
    "Status: Downloaded newer image for osrg/ryu-book:latest\n",
    "+ service openvswitch-switch start\n",
    " * Inserting openvswitch module\n",
    " * /etc/openvswitch/conf.db does not exist\n",
    " * Creating empty database /etc/openvswitch/conf.db\n",
    " * Starting ovsdb-server\n",
    " * Configuring Open vSwitch system IDs\n",
    " * Inserting openvswitch module\n",
    " * Starting ovs-vswitchd\n",
    " * Enabling remote OVSDB managers\n",
    "+ bash\n",
    "root@d617d898c6ed:~#"
   ]
  },
  {
   "cell_type": "markdown",
   "metadata": {},
   "source": [
    "■イメージは以下のように作成されている\n",
    "PS C:\\Users\\yutak> docker ps\n",
    "CONTAINER ID        IMAGE               COMMAND             CREATED             STATUS              PORTS               NAMES\n",
    "d617d898c6ed        osrg/ryu-book       \"/ENTRYPOINT.sh\"    2 hours ago         Up 2 hours                              hungry_williams"
   ]
  }
 ],
 "metadata": {
  "kernelspec": {
   "display_name": "Python 3",
   "language": "python",
   "name": "python3"
  },
  "language_info": {
   "codemirror_mode": {
    "name": "ipython",
    "version": 3
   },
   "file_extension": ".py",
   "mimetype": "text/x-python",
   "name": "python",
   "nbconvert_exporter": "python",
   "pygments_lexer": "ipython3",
   "version": "3.6.0"
  }
 },
 "nbformat": 4,
 "nbformat_minor": 2
}
